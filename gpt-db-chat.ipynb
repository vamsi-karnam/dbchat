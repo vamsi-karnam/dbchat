{
 "cells": [
  {
   "cell_type": "code",
   "execution_count": null,
   "metadata": {},
   "outputs": [],
   "source": [
    "from openai import OpenAI\n",
    "client = OpenAI(api_key=\"key\") # add your openai api key here\n",
    "\n",
    "\n",
    "system_prompt = \"\"\"You are an advanced text-to-SQL model. Your role is to interpret instructions and generate queries which can be used to modify databases and tables using SQL. \n",
    "                   You will need to generate SQL code based on the given prompt and optional context. The context contains SQL code from previous commands using which you can infer the details of database objects. \n",
    "                   The generated SQL query should be able to fetch column names, manipulate data (inserting, updating, or deleting records), and define data (creating, altering, or dropping tables and other database objects). \n",
    "                   These tasks are based on the provided task type and optional context within the same chat. Note that the context about the table is optional for defining tasks.\n",
    "                   Always use the full information provided in the prompt and give multiple sql codes within the same sql code seperated with a semi colon if required.\n",
    "                   Do not provide any other response except the SQL prompt and always provide the response in plain text without any code tags in one straight line\"\"\"\n",
    "\n",
    "task_type = \"\"\" task type: define data\"\"\"\n",
    "\n",
    "context = \"\"\" context: no context\"\"\"\n",
    "# Example: \"\"\" context: no context \"\"\"\n",
    "\n",
    "instruction = input(\"Enter the SQL instruction: \")\n",
    "# Example: \"\"\" sql code to create a table with student, id_number, and date_of_birth as columns, with id_number being the primary key\"\"\" \n",
    "# Note: # automatically understand task type and also gather context using more sql code\n",
    "\n",
    "\n",
    "chat_completion = client.chat.completions.create(\n",
    "    messages=[\n",
    "        {\n",
    "            \"role\": \"user\",\n",
    "            \"content\": system_prompt + task_type + context + instruction,\n",
    "        }\n",
    "    ],\n",
    "    model=\"gpt-4o-mini\",\n",
    ")\n",
    "\n",
    "\n",
    "response = chat_completion.choices[0].message.content.strip()\n",
    "print (response)\n",
    "#print (type(response))"
   ]
  },
  {
   "cell_type": "code",
   "execution_count": null,
   "metadata": {},
   "outputs": [],
   "source": [
    "import mysql.connector\n",
    "\n",
    "# update mysql client connection details\n",
    "mysql_client = mysql.connector.connect(\n",
    "    host='localhost',\n",
    "    user='chat',\n",
    "    password='newpassword'\n",
    ")\n",
    "\n",
    "#print (mysql_client)\n",
    "\n",
    "command = mysql_client.cursor()\n",
    "\n",
    "command.execute(response)\n"
   ]
  },
  {
   "cell_type": "code",
   "execution_count": null,
   "metadata": {},
   "outputs": [],
   "source": []
  }
 ],
 "metadata": {
  "kernelspec": {
   "display_name": "Python 3",
   "language": "python",
   "name": "python3"
  },
  "language_info": {
   "codemirror_mode": {
    "name": "ipython",
    "version": 3
   },
   "file_extension": ".py",
   "mimetype": "text/x-python",
   "name": "python",
   "nbconvert_exporter": "python",
   "pygments_lexer": "ipython3",
   "version": "3.12.0"
  }
 },
 "nbformat": 4,
 "nbformat_minor": 2
}
